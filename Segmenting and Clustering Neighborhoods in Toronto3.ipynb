{
    "cells": [
        {
            "cell_type": "code",
            "execution_count": null,
            "metadata": {},
            "outputs": [],
            "source": "from bs4 import BeautifulSoup\nimport requests\nimport pandas as pd\nimport numpy as np\nimport os\nfrom sklearn.cluster import KMeans\n!conda install -c conda-forge folium=0.5.0\nimport folium \nfrom geopy.geocoders import Nominatim \nimport matplotlib.cm as cm\nimport matplotlib.colors as colors\nprint(\"imported\")"
        },
        {
            "cell_type": "code",
            "execution_count": null,
            "metadata": {},
            "outputs": [],
            "source": "url = \"https://en.wikipedia.org/wiki/List_of_postal_codes_of_Canada:_M\"\nsource = requests.get(url).text"
        },
        {
            "cell_type": "code",
            "execution_count": null,
            "metadata": {},
            "outputs": [],
            "source": "soup = BeautifulSoup(source, 'xml')\ntable = soup.find('table')"
        },
        {
            "cell_type": "code",
            "execution_count": null,
            "metadata": {},
            "outputs": [],
            "source": "column_names = ['Postalcode','Borough','Neighborhood']\ndf = pd.DataFrame(columns = column_names)"
        },
        {
            "cell_type": "code",
            "execution_count": null,
            "metadata": {},
            "outputs": [],
            "source": "for tr_cell in table.find_all('tr'):\n    row_data=[]\n    for td_cell in tr_cell.find_all('td'):\n        row_data.append(td_cell.text.strip())\n    if len(row_data)==3:\n        df.loc[len(df)] = row_data\ndf.head()"
        },
        {
            "cell_type": "code",
            "execution_count": null,
            "metadata": {},
            "outputs": [],
            "source": "df = df.drop(df[(df.Borough == \"Not assigned\")].index)"
        },
        {
            "cell_type": "code",
            "execution_count": null,
            "metadata": {},
            "outputs": [],
            "source": "df.Neighborhood.replace(\"Not assigned\", df.Borough, inplace=True)\ndf.head()"
        },
        {
            "cell_type": "code",
            "execution_count": null,
            "metadata": {},
            "outputs": [],
            "source": "df.shape"
        },
        {
            "cell_type": "code",
            "execution_count": null,
            "metadata": {},
            "outputs": [],
            "source": "def get_geocode(postal_code):\n    # initialize your variable to None\n    lat_lng_coords = None\n    while(lat_lng_coords is None):\n        g = geocoder.google('{}, Toronto, Ontario'.format(postal_code))\n        lat_lng_coords = g.latlng\n    latitude = lat_lng_coords[0]\n    longitude = lat_lng_coords[1]\n    return latitude,longitude"
        },
        {
            "cell_type": "code",
            "execution_count": null,
            "metadata": {},
            "outputs": [],
            "source": "geo_df=pd.read_csv('http://cocl.us/Geospatial_data')\ngeo_df.head()"
        },
        {
            "cell_type": "code",
            "execution_count": null,
            "metadata": {},
            "outputs": [],
            "source": "geo_df.rename(columns={'Postal Code':'Postalcode'},inplace=True)\ngeo_data = pd.merge(geo_df, df, on='Postalcode')\ngeo_data.head()"
        },
        {
            "cell_type": "code",
            "execution_count": null,
            "metadata": {},
            "outputs": [],
            "source": "toronto_data=geo_data[geo_data['Borough'].str.contains(\"Toronto\")]\ntoronto_data.head()"
        },
        {
            "cell_type": "code",
            "execution_count": null,
            "metadata": {},
            "outputs": [],
            "source": "CLIENT_ID = 'AZ1XWB255JDEPB5SYU3ONYF3SMTCXGEXAAQICQ4FUGKFTETP' # your Foursquare ID\nCLIENT_SECRET = '3EDGOTDXFRCLLULDYM45YTOZROFW1KTP5P0V530U5XJ3WEK4' # your Foursquare Secret\nVERSION = '20180605' # Foursquare API version"
        },
        {
            "cell_type": "code",
            "execution_count": null,
            "metadata": {},
            "outputs": [],
            "source": "def getNearbyVenues(names, latitudes, longitudes, radius=500):\n    radius=500\n    LIMIT=100 \n    venues_list=[]\n    for name, lat, lng in zip(names, latitudes, longitudes):\n        print(name)\n            \n        # create the API request URL\n        url = 'https://api.foursquare.com/v2/venues/explore?&client_id={}&client_secret={}&v={}&ll={},{}&radius={}&limit={}'.format(\n            CLIENT_ID, \n            CLIENT_SECRET, \n            VERSION, \n            lat, \n            lng, \n            radius, \n            LIMIT)\n            \n        # make the GET request\n        results = requests.get(url).json()[\"response\"]['groups'][0]['items']\n        \n        # return only relevant information for each nearby venue\n        venues_list.append([(\n            name, \n            lat, \n            lng, \n            v['venue']['name'], \n            v['venue']['location']['lat'], \n            v['venue']['location']['lng'],  \n            v['venue']['categories'][0]['name']) for v in results])\n\n    nearby_venues = pd.DataFrame([item for venue_list in venues_list for item in venue_list])\n    nearby_venues.columns = ['Neighborhood', \n                  'Neighborhood Latitude', \n                  'Neighborhood Longitude', \n                  'Venue', \n                  'Venue Latitude', \n                  'Venue Longitude', \n                  'Venue Category']\n    \n    return(nearby_venues)"
        },
        {
            "cell_type": "code",
            "execution_count": 43,
            "metadata": {},
            "outputs": [
                {
                    "name": "stdout",
                    "output_type": "stream",
                    "text": "The Beaches\nThe Danforth West, Riverdale\nIndia Bazaar, The Beaches West\nStudio District\nLawrence Park\nDavisville North\nNorth Toronto West,  Lawrence Park\nDavisville\nMoore Park, Summerhill East\nSummerhill West, Rathnelly, South Hill, Forest Hill SE, Deer Park\nRosedale\nSt. James Town, Cabbagetown\nChurch and Wellesley\nRegent Park, Harbourfront\nGarden District, Ryerson\nSt. James Town\nBerczy Park\nCentral Bay Street\nRichmond, Adelaide, King\nHarbourfront East, Union Station, Toronto Islands\nToronto Dominion Centre, Design Exchange\nCommerce Court, Victoria Hotel\nRoselawn\nForest Hill North & West, Forest Hill Road Park\nThe Annex, North Midtown, Yorkville\nUniversity of Toronto, Harbord\nKensington Market, Chinatown, Grange Park\nCN Tower, King and Spadina, Railway Lands, Harbourfront West, Bathurst Quay, South Niagara, Island airport\nStn A PO Boxes\nFirst Canadian Place, Underground city\nChristie\nDufferin, Dovercourt Village\nLittle Portugal, Trinity\nBrockton, Parkdale Village, Exhibition Place\nHigh Park, The Junction South\nParkdale, Roncesvalles\nRunnymede, Swansea\nQueen's Park, Ontario Provincial Government\nBusiness reply mail Processing Centre, South Central Letter Processing Plant Toronto\n"
                }
            ],
            "source": "toronto_venues = getNearbyVenues(names=toronto_data['Neighborhood'],\n                                   latitudes=toronto_data['Latitude'],\n                                   longitudes=toronto_data['Longitude']\n                                  )"
        },
        {
            "cell_type": "code",
            "execution_count": null,
            "metadata": {},
            "outputs": [],
            "source": "toronto_venues.head()"
        },
        {
            "cell_type": "code",
            "execution_count": 45,
            "metadata": {},
            "outputs": [
                {
                    "data": {
                        "text/html": "<div>\n<style scoped>\n    .dataframe tbody tr th:only-of-type {\n        vertical-align: middle;\n    }\n\n    .dataframe tbody tr th {\n        vertical-align: top;\n    }\n\n    .dataframe thead th {\n        text-align: right;\n    }\n</style>\n<table border=\"1\" class=\"dataframe\">\n  <thead>\n    <tr style=\"text-align: right;\">\n      <th></th>\n      <th>Neighborhood Latitude</th>\n      <th>Neighborhood Longitude</th>\n      <th>Venue</th>\n      <th>Venue Latitude</th>\n      <th>Venue Longitude</th>\n      <th>Venue Category</th>\n    </tr>\n    <tr>\n      <th>Neighborhood</th>\n      <th></th>\n      <th></th>\n      <th></th>\n      <th></th>\n      <th></th>\n      <th></th>\n    </tr>\n  </thead>\n  <tbody>\n    <tr>\n      <th>Berczy Park</th>\n      <td>56</td>\n      <td>56</td>\n      <td>56</td>\n      <td>56</td>\n      <td>56</td>\n      <td>56</td>\n    </tr>\n    <tr>\n      <th>Brockton, Parkdale Village, Exhibition Place</th>\n      <td>24</td>\n      <td>24</td>\n      <td>24</td>\n      <td>24</td>\n      <td>24</td>\n      <td>24</td>\n    </tr>\n    <tr>\n      <th>Business reply mail Processing Centre, South Central Letter Processing Plant Toronto</th>\n      <td>16</td>\n      <td>16</td>\n      <td>16</td>\n      <td>16</td>\n      <td>16</td>\n      <td>16</td>\n    </tr>\n    <tr>\n      <th>CN Tower, King and Spadina, Railway Lands, Harbourfront West, Bathurst Quay, South Niagara, Island airport</th>\n      <td>16</td>\n      <td>16</td>\n      <td>16</td>\n      <td>16</td>\n      <td>16</td>\n      <td>16</td>\n    </tr>\n    <tr>\n      <th>Central Bay Street</th>\n      <td>64</td>\n      <td>64</td>\n      <td>64</td>\n      <td>64</td>\n      <td>64</td>\n      <td>64</td>\n    </tr>\n    <tr>\n      <th>Christie</th>\n      <td>17</td>\n      <td>17</td>\n      <td>17</td>\n      <td>17</td>\n      <td>17</td>\n      <td>17</td>\n    </tr>\n    <tr>\n      <th>Church and Wellesley</th>\n      <td>75</td>\n      <td>75</td>\n      <td>75</td>\n      <td>75</td>\n      <td>75</td>\n      <td>75</td>\n    </tr>\n    <tr>\n      <th>Commerce Court, Victoria Hotel</th>\n      <td>100</td>\n      <td>100</td>\n      <td>100</td>\n      <td>100</td>\n      <td>100</td>\n      <td>100</td>\n    </tr>\n    <tr>\n      <th>Davisville</th>\n      <td>33</td>\n      <td>33</td>\n      <td>33</td>\n      <td>33</td>\n      <td>33</td>\n      <td>33</td>\n    </tr>\n    <tr>\n      <th>Davisville North</th>\n      <td>9</td>\n      <td>9</td>\n      <td>9</td>\n      <td>9</td>\n      <td>9</td>\n      <td>9</td>\n    </tr>\n    <tr>\n      <th>Dufferin, Dovercourt Village</th>\n      <td>16</td>\n      <td>16</td>\n      <td>16</td>\n      <td>16</td>\n      <td>16</td>\n      <td>16</td>\n    </tr>\n    <tr>\n      <th>First Canadian Place, Underground city</th>\n      <td>100</td>\n      <td>100</td>\n      <td>100</td>\n      <td>100</td>\n      <td>100</td>\n      <td>100</td>\n    </tr>\n    <tr>\n      <th>Forest Hill North &amp; West, Forest Hill Road Park</th>\n      <td>6</td>\n      <td>6</td>\n      <td>6</td>\n      <td>6</td>\n      <td>6</td>\n      <td>6</td>\n    </tr>\n    <tr>\n      <th>Garden District, Ryerson</th>\n      <td>100</td>\n      <td>100</td>\n      <td>100</td>\n      <td>100</td>\n      <td>100</td>\n      <td>100</td>\n    </tr>\n    <tr>\n      <th>Harbourfront East, Union Station, Toronto Islands</th>\n      <td>100</td>\n      <td>100</td>\n      <td>100</td>\n      <td>100</td>\n      <td>100</td>\n      <td>100</td>\n    </tr>\n    <tr>\n      <th>High Park, The Junction South</th>\n      <td>25</td>\n      <td>25</td>\n      <td>25</td>\n      <td>25</td>\n      <td>25</td>\n      <td>25</td>\n    </tr>\n    <tr>\n      <th>India Bazaar, The Beaches West</th>\n      <td>24</td>\n      <td>24</td>\n      <td>24</td>\n      <td>24</td>\n      <td>24</td>\n      <td>24</td>\n    </tr>\n    <tr>\n      <th>Kensington Market, Chinatown, Grange Park</th>\n      <td>62</td>\n      <td>62</td>\n      <td>62</td>\n      <td>62</td>\n      <td>62</td>\n      <td>62</td>\n    </tr>\n    <tr>\n      <th>Lawrence Park</th>\n      <td>4</td>\n      <td>4</td>\n      <td>4</td>\n      <td>4</td>\n      <td>4</td>\n      <td>4</td>\n    </tr>\n    <tr>\n      <th>Little Portugal, Trinity</th>\n      <td>43</td>\n      <td>43</td>\n      <td>43</td>\n      <td>43</td>\n      <td>43</td>\n      <td>43</td>\n    </tr>\n    <tr>\n      <th>Moore Park, Summerhill East</th>\n      <td>3</td>\n      <td>3</td>\n      <td>3</td>\n      <td>3</td>\n      <td>3</td>\n      <td>3</td>\n    </tr>\n    <tr>\n      <th>North Toronto West,  Lawrence Park</th>\n      <td>20</td>\n      <td>20</td>\n      <td>20</td>\n      <td>20</td>\n      <td>20</td>\n      <td>20</td>\n    </tr>\n    <tr>\n      <th>Parkdale, Roncesvalles</th>\n      <td>15</td>\n      <td>15</td>\n      <td>15</td>\n      <td>15</td>\n      <td>15</td>\n      <td>15</td>\n    </tr>\n    <tr>\n      <th>Queen's Park, Ontario Provincial Government</th>\n      <td>34</td>\n      <td>34</td>\n      <td>34</td>\n      <td>34</td>\n      <td>34</td>\n      <td>34</td>\n    </tr>\n    <tr>\n      <th>Regent Park, Harbourfront</th>\n      <td>44</td>\n      <td>44</td>\n      <td>44</td>\n      <td>44</td>\n      <td>44</td>\n      <td>44</td>\n    </tr>\n    <tr>\n      <th>Richmond, Adelaide, King</th>\n      <td>92</td>\n      <td>92</td>\n      <td>92</td>\n      <td>92</td>\n      <td>92</td>\n      <td>92</td>\n    </tr>\n    <tr>\n      <th>Rosedale</th>\n      <td>4</td>\n      <td>4</td>\n      <td>4</td>\n      <td>4</td>\n      <td>4</td>\n      <td>4</td>\n    </tr>\n    <tr>\n      <th>Roselawn</th>\n      <td>1</td>\n      <td>1</td>\n      <td>1</td>\n      <td>1</td>\n      <td>1</td>\n      <td>1</td>\n    </tr>\n    <tr>\n      <th>Runnymede, Swansea</th>\n      <td>38</td>\n      <td>38</td>\n      <td>38</td>\n      <td>38</td>\n      <td>38</td>\n      <td>38</td>\n    </tr>\n    <tr>\n      <th>St. James Town</th>\n      <td>78</td>\n      <td>78</td>\n      <td>78</td>\n      <td>78</td>\n      <td>78</td>\n      <td>78</td>\n    </tr>\n    <tr>\n      <th>St. James Town, Cabbagetown</th>\n      <td>46</td>\n      <td>46</td>\n      <td>46</td>\n      <td>46</td>\n      <td>46</td>\n      <td>46</td>\n    </tr>\n    <tr>\n      <th>Stn A PO Boxes</th>\n      <td>96</td>\n      <td>96</td>\n      <td>96</td>\n      <td>96</td>\n      <td>96</td>\n      <td>96</td>\n    </tr>\n    <tr>\n      <th>Studio District</th>\n      <td>40</td>\n      <td>40</td>\n      <td>40</td>\n      <td>40</td>\n      <td>40</td>\n      <td>40</td>\n    </tr>\n    <tr>\n      <th>Summerhill West, Rathnelly, South Hill, Forest Hill SE, Deer Park</th>\n      <td>16</td>\n      <td>16</td>\n      <td>16</td>\n      <td>16</td>\n      <td>16</td>\n      <td>16</td>\n    </tr>\n    <tr>\n      <th>The Annex, North Midtown, Yorkville</th>\n      <td>21</td>\n      <td>21</td>\n      <td>21</td>\n      <td>21</td>\n      <td>21</td>\n      <td>21</td>\n    </tr>\n    <tr>\n      <th>The Beaches</th>\n      <td>5</td>\n      <td>5</td>\n      <td>5</td>\n      <td>5</td>\n      <td>5</td>\n      <td>5</td>\n    </tr>\n    <tr>\n      <th>The Danforth West, Riverdale</th>\n      <td>43</td>\n      <td>43</td>\n      <td>43</td>\n      <td>43</td>\n      <td>43</td>\n      <td>43</td>\n    </tr>\n    <tr>\n      <th>Toronto Dominion Centre, Design Exchange</th>\n      <td>100</td>\n      <td>100</td>\n      <td>100</td>\n      <td>100</td>\n      <td>100</td>\n      <td>100</td>\n    </tr>\n    <tr>\n      <th>University of Toronto, Harbord</th>\n      <td>34</td>\n      <td>34</td>\n      <td>34</td>\n      <td>34</td>\n      <td>34</td>\n      <td>34</td>\n    </tr>\n  </tbody>\n</table>\n</div>",
                        "text/plain": "                                                    Neighborhood Latitude  \\\nNeighborhood                                                                \nBerczy Park                                                            56   \nBrockton, Parkdale Village, Exhibition Place                           24   \nBusiness reply mail Processing Centre, South Ce...                     16   \nCN Tower, King and Spadina, Railway Lands, Harb...                     16   \nCentral Bay Street                                                     64   \nChristie                                                               17   \nChurch and Wellesley                                                   75   \nCommerce Court, Victoria Hotel                                        100   \nDavisville                                                             33   \nDavisville North                                                        9   \nDufferin, Dovercourt Village                                           16   \nFirst Canadian Place, Underground city                                100   \nForest Hill North & West, Forest Hill Road Park                         6   \nGarden District, Ryerson                                              100   \nHarbourfront East, Union Station, Toronto Islands                     100   \nHigh Park, The Junction South                                          25   \nIndia Bazaar, The Beaches West                                         24   \nKensington Market, Chinatown, Grange Park                              62   \nLawrence Park                                                           4   \nLittle Portugal, Trinity                                               43   \nMoore Park, Summerhill East                                             3   \nNorth Toronto West,  Lawrence Park                                     20   \nParkdale, Roncesvalles                                                 15   \nQueen's Park, Ontario Provincial Government                            34   \nRegent Park, Harbourfront                                              44   \nRichmond, Adelaide, King                                               92   \nRosedale                                                                4   \nRoselawn                                                                1   \nRunnymede, Swansea                                                     38   \nSt. James Town                                                         78   \nSt. James Town, Cabbagetown                                            46   \nStn A PO Boxes                                                         96   \nStudio District                                                        40   \nSummerhill West, Rathnelly, South Hill, Forest ...                     16   \nThe Annex, North Midtown, Yorkville                                    21   \nThe Beaches                                                             5   \nThe Danforth West, Riverdale                                           43   \nToronto Dominion Centre, Design Exchange                              100   \nUniversity of Toronto, Harbord                                         34   \n\n                                                    Neighborhood Longitude  \\\nNeighborhood                                                                 \nBerczy Park                                                             56   \nBrockton, Parkdale Village, Exhibition Place                            24   \nBusiness reply mail Processing Centre, South Ce...                      16   \nCN Tower, King and Spadina, Railway Lands, Harb...                      16   \nCentral Bay Street                                                      64   \nChristie                                                                17   \nChurch and Wellesley                                                    75   \nCommerce Court, Victoria Hotel                                         100   \nDavisville                                                              33   \nDavisville North                                                         9   \nDufferin, Dovercourt Village                                            16   \nFirst Canadian Place, Underground city                                 100   \nForest Hill North & West, Forest Hill Road Park                          6   \nGarden District, Ryerson                                               100   \nHarbourfront East, Union Station, Toronto Islands                      100   \nHigh Park, The Junction South                                           25   \nIndia Bazaar, The Beaches West                                          24   \nKensington Market, Chinatown, Grange Park                               62   \nLawrence Park                                                            4   \nLittle Portugal, Trinity                                                43   \nMoore Park, Summerhill East                                              3   \nNorth Toronto West,  Lawrence Park                                      20   \nParkdale, Roncesvalles                                                  15   \nQueen's Park, Ontario Provincial Government                             34   \nRegent Park, Harbourfront                                               44   \nRichmond, Adelaide, King                                                92   \nRosedale                                                                 4   \nRoselawn                                                                 1   \nRunnymede, Swansea                                                      38   \nSt. James Town                                                          78   \nSt. James Town, Cabbagetown                                             46   \nStn A PO Boxes                                                          96   \nStudio District                                                         40   \nSummerhill West, Rathnelly, South Hill, Forest ...                      16   \nThe Annex, North Midtown, Yorkville                                     21   \nThe Beaches                                                              5   \nThe Danforth West, Riverdale                                            43   \nToronto Dominion Centre, Design Exchange                               100   \nUniversity of Toronto, Harbord                                          34   \n\n                                                    Venue  Venue Latitude  \\\nNeighborhood                                                                \nBerczy Park                                            56              56   \nBrockton, Parkdale Village, Exhibition Place           24              24   \nBusiness reply mail Processing Centre, South Ce...     16              16   \nCN Tower, King and Spadina, Railway Lands, Harb...     16              16   \nCentral Bay Street                                     64              64   \nChristie                                               17              17   \nChurch and Wellesley                                   75              75   \nCommerce Court, Victoria Hotel                        100             100   \nDavisville                                             33              33   \nDavisville North                                        9               9   \nDufferin, Dovercourt Village                           16              16   \nFirst Canadian Place, Underground city                100             100   \nForest Hill North & West, Forest Hill Road Park         6               6   \nGarden District, Ryerson                              100             100   \nHarbourfront East, Union Station, Toronto Islands     100             100   \nHigh Park, The Junction South                          25              25   \nIndia Bazaar, The Beaches West                         24              24   \nKensington Market, Chinatown, Grange Park              62              62   \nLawrence Park                                           4               4   \nLittle Portugal, Trinity                               43              43   \nMoore Park, Summerhill East                             3               3   \nNorth Toronto West,  Lawrence Park                     20              20   \nParkdale, Roncesvalles                                 15              15   \nQueen's Park, Ontario Provincial Government            34              34   \nRegent Park, Harbourfront                              44              44   \nRichmond, Adelaide, King                               92              92   \nRosedale                                                4               4   \nRoselawn                                                1               1   \nRunnymede, Swansea                                     38              38   \nSt. James Town                                         78              78   \nSt. James Town, Cabbagetown                            46              46   \nStn A PO Boxes                                         96              96   \nStudio District                                        40              40   \nSummerhill West, Rathnelly, South Hill, Forest ...     16              16   \nThe Annex, North Midtown, Yorkville                    21              21   \nThe Beaches                                             5               5   \nThe Danforth West, Riverdale                           43              43   \nToronto Dominion Centre, Design Exchange              100             100   \nUniversity of Toronto, Harbord                         34              34   \n\n                                                    Venue Longitude  \\\nNeighborhood                                                          \nBerczy Park                                                      56   \nBrockton, Parkdale Village, Exhibition Place                     24   \nBusiness reply mail Processing Centre, South Ce...               16   \nCN Tower, King and Spadina, Railway Lands, Harb...               16   \nCentral Bay Street                                               64   \nChristie                                                         17   \nChurch and Wellesley                                             75   \nCommerce Court, Victoria Hotel                                  100   \nDavisville                                                       33   \nDavisville North                                                  9   \nDufferin, Dovercourt Village                                     16   \nFirst Canadian Place, Underground city                          100   \nForest Hill North & West, Forest Hill Road Park                   6   \nGarden District, Ryerson                                        100   \nHarbourfront East, Union Station, Toronto Islands               100   \nHigh Park, The Junction South                                    25   \nIndia Bazaar, The Beaches West                                   24   \nKensington Market, Chinatown, Grange Park                        62   \nLawrence Park                                                     4   \nLittle Portugal, Trinity                                         43   \nMoore Park, Summerhill East                                       3   \nNorth Toronto West,  Lawrence Park                               20   \nParkdale, Roncesvalles                                           15   \nQueen's Park, Ontario Provincial Government                      34   \nRegent Park, Harbourfront                                        44   \nRichmond, Adelaide, King                                         92   \nRosedale                                                          4   \nRoselawn                                                          1   \nRunnymede, Swansea                                               38   \nSt. James Town                                                   78   \nSt. James Town, Cabbagetown                                      46   \nStn A PO Boxes                                                   96   \nStudio District                                                  40   \nSummerhill West, Rathnelly, South Hill, Forest ...               16   \nThe Annex, North Midtown, Yorkville                              21   \nThe Beaches                                                       5   \nThe Danforth West, Riverdale                                     43   \nToronto Dominion Centre, Design Exchange                        100   \nUniversity of Toronto, Harbord                                   34   \n\n                                                    Venue Category  \nNeighborhood                                                        \nBerczy Park                                                     56  \nBrockton, Parkdale Village, Exhibition Place                    24  \nBusiness reply mail Processing Centre, South Ce...              16  \nCN Tower, King and Spadina, Railway Lands, Harb...              16  \nCentral Bay Street                                              64  \nChristie                                                        17  \nChurch and Wellesley                                            75  \nCommerce Court, Victoria Hotel                                 100  \nDavisville                                                      33  \nDavisville North                                                 9  \nDufferin, Dovercourt Village                                    16  \nFirst Canadian Place, Underground city                         100  \nForest Hill North & West, Forest Hill Road Park                  6  \nGarden District, Ryerson                                       100  \nHarbourfront East, Union Station, Toronto Islands              100  \nHigh Park, The Junction South                                   25  \nIndia Bazaar, The Beaches West                                  24  \nKensington Market, Chinatown, Grange Park                       62  \nLawrence Park                                                    4  \nLittle Portugal, Trinity                                        43  \nMoore Park, Summerhill East                                      3  \nNorth Toronto West,  Lawrence Park                              20  \nParkdale, Roncesvalles                                          15  \nQueen's Park, Ontario Provincial Government                     34  \nRegent Park, Harbourfront                                       44  \nRichmond, Adelaide, King                                        92  \nRosedale                                                         4  \nRoselawn                                                         1  \nRunnymede, Swansea                                              38  \nSt. James Town                                                  78  \nSt. James Town, Cabbagetown                                     46  \nStn A PO Boxes                                                  96  \nStudio District                                                 40  \nSummerhill West, Rathnelly, South Hill, Forest ...              16  \nThe Annex, North Midtown, Yorkville                             21  \nThe Beaches                                                      5  \nThe Danforth West, Riverdale                                    43  \nToronto Dominion Centre, Design Exchange                       100  \nUniversity of Toronto, Harbord                                  34  "
                    },
                    "execution_count": 45,
                    "metadata": {},
                    "output_type": "execute_result"
                }
            ],
            "source": "toronto_venues.groupby('Neighborhood').count()"
        },
        {
            "cell_type": "code",
            "execution_count": null,
            "metadata": {},
            "outputs": [],
            "source": "print('There are {} uniques categories.'.format(len(toronto_venues['Venue Category'].unique())))"
        },
        {
            "cell_type": "code",
            "execution_count": null,
            "metadata": {},
            "outputs": [],
            "source": "# one hot encoding\ntoronto_onehot = pd.get_dummies(toronto_venues[['Venue Category']], prefix=\"\", prefix_sep=\"\")\ntoronto_onehot.drop(['Neighborhood'],axis=1,inplace=True) \ntoronto_onehot.insert(loc=0, column='Neighborhood', value=toronto_venues['Neighborhood'] )\ntoronto_onehot.shape\ntoronto_grouped = toronto_onehot.groupby('Neighborhood').mean().reset_index()\ntoronto_grouped.head()"
        },
        {
            "cell_type": "code",
            "execution_count": null,
            "metadata": {},
            "outputs": [],
            "source": "def return_most_common_venues(row, num_top_venues):\n    row_categories = row.iloc[1:]\n    row_categories_sorted = row_categories.sort_values(ascending=False)\n    \n    return row_categories_sorted.index.values[0:num_top_venues]"
        },
        {
            "cell_type": "code",
            "execution_count": null,
            "metadata": {},
            "outputs": [],
            "source": "\nnum_top_venues = 10\n\nindicators = ['st', 'nd', 'rd']\n\n# create columns according to number of top venues\ncolumns = ['Neighborhood']\nfor ind in np.arange(num_top_venues):\n    try:\n        columns.append('{}{} Most Common Venue'.format(ind+1, indicators[ind]))\n    except:\n        columns.append('{}th Most Common Venue'.format(ind+1))\n\n# create a new dataframe\nneighborhoods_venues_sorted = pd.DataFrame(columns=columns)\nneighborhoods_venues_sorted['Neighborhood'] = toronto_grouped['Neighborhood']\n\nfor ind in np.arange(toronto_grouped.shape[0]):\n    neighborhoods_venues_sorted.iloc[ind, 1:] = return_most_common_venues(toronto_grouped.iloc[ind, :], num_top_venues)\n\nneighborhoods_venues_sorted.head()\n"
        },
        {
            "cell_type": "code",
            "execution_count": null,
            "metadata": {},
            "outputs": [],
            "source": "# set number of clusters\nkclusters = 5\n\ntoronto_grouped_clustering = toronto_grouped.drop('Neighborhood', 1)\n\n# run k-means clustering\nkmeans = KMeans(n_clusters=kclusters, random_state=0).fit(toronto_grouped_clustering)\n\n# check cluster labels generated for each row in the dataframe\nkmeans.labels_[0:10]"
        },
        {
            "cell_type": "code",
            "execution_count": null,
            "metadata": {},
            "outputs": [],
            "source": "# add clustering labels\nneighborhoods_venues_sorted.insert(0, 'Cluster Labels', kmeans.labels_)\n\ntoronto_merged = toronto_data\n\n# merge toronto_grouped with toronto_data to add latitude/longitude for each neighborhood\ntoronto_merged = toronto_merged.join(neighborhoods_venues_sorted.set_index('Neighborhood'), on='Neighborhood')\n\ntoronto_merged.head()"
        },
        {
            "cell_type": "code",
            "execution_count": null,
            "metadata": {},
            "outputs": [],
            "source": "neighborhoods_venues_sorted"
        },
        {
            "cell_type": "code",
            "execution_count": null,
            "metadata": {},
            "outputs": [],
            "source": "\naddress = 'Toronto, CA'\n\ngeolocator = Nominatim(user_agent=\"ny_explorer\")\nlocation = geolocator.geocode(address)\nlatitude = location.latitude\nlongitude = location.longitude\nprint('The geograpical coordinate of Toronto are {}, {}.'.format(latitude, longitude))"
        },
        {
            "cell_type": "code",
            "execution_count": null,
            "metadata": {},
            "outputs": [],
            "source": "\nmap_clusters = folium.Map(location=[latitude, longitude], zoom_start=11)\n\n# set color scheme for the clusters\nx = np.arange(kclusters)\nys = [i + x + (i*x)**2 for i in range(kclusters)]\ncolors_array = cm.rainbow(np.linspace(0, 1, len(ys)))\nrainbow = [colors.rgb2hex(i) for i in colors_array]\n\n# add markers to the map\nmarkers_colors = []\nfor lat, lon, poi, cluster in zip(toronto_merged['Latitude'], toronto_merged['Longitude'], toronto_merged['Neighborhood'], toronto_merged['Cluster Labels']):\n    label = folium.Popup(str(poi) + ' Cluster ' + str(cluster), parse_html=True)\n    folium.CircleMarker(\n        [lat, lon],\n        radius=5,\n        popup=label,\n        color=rainbow[cluster-1],\n        fill=True,\n        fill_color=rainbow[cluster-1],\n        fill_opacity=0.7).add_to(map_clusters)\n       \nmap_clusters"
        },
        {
            "cell_type": "code",
            "execution_count": null,
            "metadata": {},
            "outputs": [],
            "source": ""
        }
    ],
    "metadata": {
        "kernelspec": {
            "display_name": "Python 3.6",
            "language": "python",
            "name": "python3"
        },
        "language_info": {
            "codemirror_mode": {
                "name": "ipython",
                "version": 3
            },
            "file_extension": ".py",
            "mimetype": "text/x-python",
            "name": "python",
            "nbconvert_exporter": "python",
            "pygments_lexer": "ipython3",
            "version": "3.6.9"
        }
    },
    "nbformat": 4,
    "nbformat_minor": 1
}